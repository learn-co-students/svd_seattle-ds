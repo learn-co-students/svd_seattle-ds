{
 "cells": [
  {
   "cell_type": "markdown",
   "metadata": {},
   "source": [
    "# Singular Value Decomposition\n",
    "\n",
    "## Eigendecomposition\n",
    "\n",
    "Any non-defective square matrix $A$ has an eigendecomposition:\n",
    "\n",
    "$\\large A = Q\\Lambda Q^{-1}$,\n",
    "\n",
    "where:\n",
    "\n",
    "- the columns of $Q$ are the eigenvectors of $A$, and\n",
    "- $\\Lambda$ is a diagonal matrix whose non-zero entries are the eigenvalues of $A$.\n",
    "\n",
    "Eigendecompositions have *many* practical applications.\n",
    "\n",
    "But since not all matrices are square, not all matrices have eigendecompositions.\n",
    "\n",
    "## Singular Value Decomposition\n",
    "\n",
    "However, given a non-square matrix $R$, we can construct a square matrix by simply calculating $RR^T$ or $R^TR$.\n",
    "\n",
    "Moreover, _any_ matrix $A$ has a singular value decomposition, i.e. a factorization in the form:\n",
    "\n",
    "$A = U\\Sigma V^T$,\n",
    "\n",
    "where\n",
    "\n",
    "- $\\Sigma$ is diagonal with real, non-negative entries, and\n",
    "- $U$ and $V$ are orthogonal (a matrix $Q$ is orthogonal if $Q^T = Q^{-1}$)."
   ]
  },
  {
   "cell_type": "markdown",
   "metadata": {},
   "source": [
    "Now (this text adapted from Inderjit Dhillon, http://www.cs.utexas.edu/users/inderjit/courses/dm2009/LinearAlgebraBackground.pdf):\n",
    "\n",
    "Using the singular value decomposition of $A$, we have:\n",
    "\n",
    "$\\large AA^T = U\\Sigma V^T\\times(U\\Sigma V^T)^T$ <br/>\n",
    "$\\large AA^T = U\\Sigma V^T\\times V\\Sigma^TU^T$ <br/>\n",
    "$\\large AA^T = U\\Sigma I\\Sigma U^T$ <br/>\n",
    "$\\large AA^T = U\\Sigma^2U^T$\n",
    "\n",
    "Thus, the columns of $U$ are the eigenvectors of $AA^T$. <br/>\n",
    "\n",
    "Similarly, $\\large A^TA = V\\Sigma^2V^T$.\n",
    "\n",
    "Thus, the columns of $V$ are the eigenvectors of $A^TA$. <br/>\n",
    "\n",
    "The singular values of A are the non-negative square roots of the eigenvalues of $AA^T$ or $A^TA$."
   ]
  },
  {
   "cell_type": "markdown",
   "metadata": {},
   "source": [
    "This shows that the eigen- and the singular value decompositions are intimately related!\n",
    "\n",
    "The SVD has many uses! Check out this book chapter for details: <br/> https://www.cs.cmu.edu/~venkatg/teaching/CStheory-infoage/book-chapter-4.pdf."
   ]
  },
  {
   "cell_type": "code",
   "execution_count": null,
   "metadata": {},
   "outputs": [],
   "source": []
  }
 ],
 "metadata": {
  "kernelspec": {
   "display_name": "Python 3",
   "language": "python",
   "name": "python3"
  },
  "language_info": {
   "codemirror_mode": {
    "name": "ipython",
    "version": 3
   },
   "file_extension": ".py",
   "mimetype": "text/x-python",
   "name": "python",
   "nbconvert_exporter": "python",
   "pygments_lexer": "ipython3",
   "version": "3.7.1"
  }
 },
 "nbformat": 4,
 "nbformat_minor": 2
}
